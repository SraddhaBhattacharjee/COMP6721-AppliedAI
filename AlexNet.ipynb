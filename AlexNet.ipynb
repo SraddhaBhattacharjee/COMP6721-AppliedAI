{
  "nbformat": 4,
  "nbformat_minor": 0,
  "metadata": {
    "colab": {
      "provenance": []
    },
    "kernelspec": {
      "name": "python3",
      "display_name": "Python 3"
    },
    "language_info": {
      "name": "python"
    }
  },
  "cells": [
    {
      "cell_type": "code",
      "execution_count": null,
      "metadata": {
        "id": "WsiFi470Z6f6",
        "colab": {
          "base_uri": "https://localhost:8080/"
        },
        "outputId": "10cad540-e93b-420a-e128-aa6089037747"
      },
      "outputs": [
        {
          "output_type": "stream",
          "name": "stdout",
          "text": [
            "Mounted at /content/drive\n"
          ]
        }
      ],
      "source": [
        "from google.colab import drive\n",
        "drive.mount('/content/drive', force_remount = True)"
      ]
    },
    {
      "cell_type": "code",
      "source": [
        "import os, time, random\n",
        "import torch\n",
        "import random\n",
        "import numpy as np\n",
        "from PIL import Image\n",
        "import torch.nn as nn\n",
        "import torch.optim as optim\n",
        "import matplotlib.pyplot as plt\n",
        "import torchvision.datasets as datasets\n",
        "import torchvision.transforms as transforms\n",
        "from torch.utils.data import DataLoader, random_split\n",
        "from sklearn.metrics import precision_score, recall_score, f1_score"
      ],
      "metadata": {
        "id": "wVxoeRWib8aF"
      },
      "execution_count": null,
      "outputs": []
    },
    {
      "cell_type": "code",
      "source": [
        "#data_path = \"drive/My Drive/Simple_Chest_XRay/\"\n",
        "#data_path = \"drive/My Drive/NIH_Chest_XRay/\"\n",
        "data_path = \"drive/My Drive/Harvard_Chest_XRay/\"\n",
        "\n",
        "sample_ratio = 0.4\n",
        "batch_size = 64\n",
        "num_epochs = 10"
      ],
      "metadata": {
        "id": "y105oUckcCsq"
      },
      "execution_count": null,
      "outputs": []
    },
    {
      "cell_type": "code",
      "source": [
        "# Set random seed for reproducibility\n",
        "torch.manual_seed(42)\n",
        "np.random.seed(42)\n",
        "random.seed(42)"
      ],
      "metadata": {
        "id": "igYIsETycF2_"
      },
      "execution_count": null,
      "outputs": []
    },
    {
      "cell_type": "markdown",
      "source": [
        "**DATA PREPROCESSING**"
      ],
      "metadata": {
        "id": "hS-Y14mUcM8I"
      }
    },
    {
      "cell_type": "code",
      "source": [
        "%run \"/content/drive/My Drive/Colab Notebooks/utils.ipynb\"\n",
        "dataset, train_loader, train_indices, test_loader, test_indices, val_loader, val_indices = data_preprocess(data_path, sample_ratio)"
      ],
      "metadata": {
        "id": "pivhO7HMcNK3"
      },
      "execution_count": null,
      "outputs": []
    },
    {
      "cell_type": "markdown",
      "source": [
        "**MODEL TRAINING**"
      ],
      "metadata": {
        "id": "sT0FoAfYfyGX"
      }
    },
    {
      "cell_type": "code",
      "source": [
        "def save_metrics(loss, accuracy):\n",
        "  np.save(\"{}train_loss.npy\".format(data_path), loss)\n",
        "  np.save(\"{}train_accuracy.npy\".format(data_path), accuracy)"
      ],
      "metadata": {
        "id": "A8D5HEX6cWGv"
      },
      "execution_count": null,
      "outputs": []
    },
    {
      "cell_type": "code",
      "source": [
        "# Define the AlexNet model and set Pretraining to False to train model from scratch\n",
        "model = torch.hub.load('pytorch/vision:v0.10.0', 'alexnet', pretrained=False)\n",
        "model.classifier[6] = nn.Linear(4096, len(dataset.classes))\n",
        "\n",
        "# Define loss function as CrossEntropy and optimizer as Adam Optimizer\n",
        "criterion = nn.CrossEntropyLoss()\n",
        "optimizer = optim.Adam(model.parameters(), lr=0.0005)\n",
        "losses, accuracies = [], []\n",
        "\n",
        "# Train model on training set\n",
        "for epoch in range(num_epochs):\n",
        "    train_loss, train_accuracy, start_time = 0.0, 0.0, time.time()\n",
        "\n",
        "    for inputs, labels in train_loader:\n",
        "        optimizer.zero_grad()\n",
        "        outputs = model(inputs)\n",
        "        _, preds = torch.max(outputs, 1)\n",
        "        loss = criterion(outputs, labels)\n",
        "        loss.backward()\n",
        "        optimizer.step()\n",
        "        train_loss += loss.item() * inputs.size(0)\n",
        "        train_accuracy += torch.sum(preds == labels.data)\n",
        "\n",
        "    train_loss /= len(train_indices)\n",
        "    train_accuracy /= len(train_indices)\n",
        "    losses.append(train_loss)\n",
        "    accuracies.append(train_accuracy.item())\n",
        "    \n",
        "    print(losses, accuracies)\n",
        "    print('Epoch: {} | Training Accuracy: {:.4f} | Training Loss: {:.4f} | Time: {:.4f}s'.format(epoch+1, train_accuracy, train_loss, time.time() - start_time))\n",
        "save_metrics(losses, accuracies)"
      ],
      "metadata": {
        "colab": {
          "base_uri": "https://localhost:8080/"
        },
        "id": "TB7nGZ0fchor",
        "outputId": "585808b8-1837-446b-c29f-a4fa70167994"
      },
      "execution_count": null,
      "outputs": [
        {
          "output_type": "stream",
          "name": "stdout",
          "text": [
            "[1.3622361356841322] [0.4372199773788452]\n",
            "Epoch: 1 | Training Accuracy: 0.4372 | Training Loss: 1.3622 | Time: 1679.7750s\n",
            "[1.3622361356841322, 1.1306686164016815] [0.4372199773788452, 0.5367719531059265]\n",
            "Epoch: 2 | Training Accuracy: 0.5368 | Training Loss: 1.1307 | Time: 942.3693s\n",
            "[1.3622361356841322, 1.1306686164016815, 1.030912783162579] [0.4372199773788452, 0.5367719531059265, 0.5835427641868591]\n",
            "Epoch: 3 | Training Accuracy: 0.5835 | Training Loss: 1.0309 | Time: 939.7208s\n",
            "[1.3622361356841322, 1.1306686164016815, 1.030912783162579, 0.9606172955175551] [0.4372199773788452, 0.5367719531059265, 0.5835427641868591, 0.6174188852310181]\n",
            "Epoch: 4 | Training Accuracy: 0.6174 | Training Loss: 0.9606 | Time: 942.6123s\n",
            "[1.3622361356841322, 1.1306686164016815, 1.030912783162579, 0.9606172955175551, 0.8319397121814415] [0.4372199773788452, 0.5367719531059265, 0.5835427641868591, 0.6174188852310181, 0.6785050630569458]\n",
            "Epoch: 5 | Training Accuracy: 0.6785 | Training Loss: 0.8319 | Time: 1012.3256s\n",
            "[1.3622361356841322, 1.1306686164016815, 1.030912783162579, 0.9606172955175551, 0.8319397121814415, 0.720619495534308] [0.4372199773788452, 0.5367719531059265, 0.5835427641868591, 0.6174188852310181, 0.6785050630569458, 0.7300841212272644]\n",
            "Epoch: 6 | Training Accuracy: 0.7301 | Training Loss: 0.7206 | Time: 1052.2275s\n",
            "[1.3622361356841322, 1.1306686164016815, 1.030912783162579, 0.9606172955175551, 0.8319397121814415, 0.720619495534308, 0.6643095153522627] [0.4372199773788452, 0.5367719531059265, 0.5835427641868591, 0.6174188852310181, 0.6785050630569458, 0.7300841212272644, 0.7554365396499634]\n",
            "Epoch: 7 | Training Accuracy: 0.7554 | Training Loss: 0.6643 | Time: 1049.4144s\n",
            "[1.3622361356841322, 1.1306686164016815, 1.030912783162579, 0.9606172955175551, 0.8319397121814415, 0.720619495534308, 0.6643095153522627, 0.6098332517056657] [0.4372199773788452, 0.5367719531059265, 0.5835427641868591, 0.6174188852310181, 0.6785050630569458, 0.7300841212272644, 0.7554365396499634, 0.7723746299743652]\n",
            "Epoch: 8 | Training Accuracy: 0.7724 | Training Loss: 0.6098 | Time: 1050.0935s\n",
            "[1.3622361356841322, 1.1306686164016815, 1.030912783162579, 0.9606172955175551, 0.8319397121814415, 0.720619495534308, 0.6643095153522627, 0.6098332517056657, 0.5753684608079921] [0.4372199773788452, 0.5367719531059265, 0.5835427641868591, 0.6174188852310181, 0.6785050630569458, 0.7300841212272644, 0.7554365396499634, 0.7723746299743652, 0.7865806818008423]\n",
            "Epoch: 9 | Training Accuracy: 0.7866 | Training Loss: 0.5754 | Time: 1040.3497s\n",
            "[1.3622361356841322, 1.1306686164016815, 1.030912783162579, 0.9606172955175551, 0.8319397121814415, 0.720619495534308, 0.6643095153522627, 0.6098332517056657, 0.5753684608079921, 0.5515868688343575] [0.4372199773788452, 0.5367719531059265, 0.5835427641868591, 0.6174188852310181, 0.6785050630569458, 0.7300841212272644, 0.7554365396499634, 0.7723746299743652, 0.7865806818008423, 0.8011146187782288]\n",
            "Epoch: 10 | Training Accuracy: 0.8011 | Training Loss: 0.5516 | Time: 1079.5058s\n"
          ]
        }
      ]
    },
    {
      "cell_type": "code",
      "source": [
        "#Plotting the Loss and Accuracy Curves\n",
        "plt.figure(figsize = (10, 5))\n",
        "plt.plot(losses, label = 'Training Loss')\n",
        "plt.plot(accuracies, label = 'Training Accuracy')\n",
        "plt.xlabel('Epoch')\n",
        "plt.ylabel('Loss / Accuracy')\n",
        "plt.title('Training Loss and Accuracy Curves')\n",
        "plt.legend()\n",
        "plt.show()"
      ],
      "metadata": {
        "colab": {
          "base_uri": "https://localhost:8080/",
          "height": 350
        },
        "id": "uel8wBvRdXG7",
        "outputId": "f9534aa7-db45-4a71-9d23-70c0d8e98f44"
      },
      "execution_count": null,
      "outputs": [
        {
          "output_type": "display_data",
          "data": {
            "text/plain": [
              "<Figure size 720x360 with 1 Axes>"
            ],
            "image/png": "[encoded data removed]"
          },
          "metadata": {
            "needs_background": "light"
          }
        }
      ]
    },
    {
      "cell_type": "code",
      "source": [
        "#Evaluate Model on Test Set\n",
        "evaluate_model(model, test_loader, test_indices, 'TEST', criterion, data_path, \"AlexNet\")\n",
        "\n",
        "#Evaluate Model on Validation Set\n",
        "evaluate_model(model, val_loader, val_indices, 'VALIDATION', criterion, data_path, \"AlexNet\")"
      ],
      "metadata": {
        "id": "FJvOFeCKgY2h",
        "colab": {
          "base_uri": "https://localhost:8080/",
          "height": 1000
        },
        "outputId": "4446d12e-f048-4c03-f579-3092069250ad"
      },
      "execution_count": null,
      "outputs": [
        {
          "output_type": "stream",
          "name": "stdout",
          "text": [
            "MODEL PERFORMANCE ON TEST SET\n",
            "Loss: 0.5449, Recall: 0.7692, Precision: 0.7950, F-score: 0.7792\n",
            "\n",
            "MODEL PERFORMANCE ON VALIDATION SET\n",
            "Loss: 0.5926, Recall: 0.7560, Precision: 0.7835, F-score: 0.7661\n",
            "\n"
          ]
        },
        {
          "output_type": "display_data",
          "data": {
            "text/plain": [
              "<Figure size 576x576 with 2 Axes>"
            ],
            "image/png": "[encoded data removed]"
          },
          "metadata": {
            "needs_background": "light"
          }
        },
        {
          "output_type": "display_data",
          "data": {
            "text/plain": [
              "<Figure size 576x576 with 2 Axes>"
            ],
            "image/png": "[encoded data removed]"
          },
          "metadata": {
            "needs_background": "light"
          }
        }
      ]
    },
    {
      "cell_type": "code",
      "source": [
        "torch.save(model.state_dict(), \"{}alexnet.pth\".format(data_path))"
      ],
      "metadata": {
        "id": "ujRP4he0gd9o"
      },
      "execution_count": null,
      "outputs": []
    }
  ]
}