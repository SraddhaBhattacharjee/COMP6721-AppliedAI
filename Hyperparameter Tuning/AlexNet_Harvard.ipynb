{
  "nbformat": 4,
  "nbformat_minor": 0,
  "metadata": {
    "colab": {
      "provenance": [],
      "include_colab_link": true
    },
    "kernelspec": {
      "name": "python3",
      "display_name": "Python 3"
    },
    "language_info": {
      "name": "python"
    },
    "accelerator": "GPU",
    "gpuClass": "standard"
  },
  "cells": [
    {
      "cell_type": "markdown",
      "metadata": {
        "id": "view-in-github",
        "colab_type": "text"
      },
      "source": [
        "<a href=\"https://colab.research.google.com/github/roshansadath/COMP6721-AppliedAI/blob/main/Hyperparameter%20Tuning/AlexNet_Harvard.ipynb\" target=\"_parent\"><img src=\"https://colab.research.google.com/assets/colab-badge.svg\" alt=\"Open In Colab\"/></a>"
      ]
    },
    {
      "cell_type": "code",
      "execution_count": null,
      "metadata": {
        "id": "WsiFi470Z6f6",
        "colab": {
          "base_uri": "https://localhost:8080/"
        },
        "outputId": "e41bce69-2d72-4ed5-b092-df677c9db93e"
      },
      "outputs": [
        {
          "output_type": "stream",
          "name": "stdout",
          "text": [
            "Mounted at /content/drive\n"
          ]
        }
      ],
      "source": [
        "from google.colab import drive\n",
        "drive.mount('/content/drive', force_remount = True)"
      ]
    },
    {
      "cell_type": "code",
      "source": [
        "import os, time, random, torch, warnings\n",
        "import numpy as np\n",
        "from PIL import Image\n",
        "import torch.nn as nn\n",
        "from tqdm import tqdm\n",
        "import seaborn as sns\n",
        "from sklearn.manifold import TSNE\n",
        "import pandas as pd\n",
        "import torch.optim as optim\n",
        "import matplotlib.pyplot as plt\n",
        "from sklearn.manifold import TSNE\n",
        "import torchvision.datasets as datasets\n",
        "import torchvision.transforms as transforms\n",
        "from torch.utils.data import DataLoader, random_split\n",
        "from sklearn.metrics import precision_score, recall_score, f1_score\n",
        "\n",
        "warnings.filterwarnings(\"ignore\", category=UserWarning)\n",
        "device = torch.device('cuda' if torch.cuda.is_available() else 'cpu')"
      ],
      "metadata": {
        "id": "wVxoeRWib8aF"
      },
      "execution_count": null,
      "outputs": []
    },
    {
      "cell_type": "code",
      "source": [
        "data_path = \"/content/drive/MyDrive/Harvard_Chest_XRay/\"\n",
        "#data_path = \"drive/My Drive/NIH_Chest_XRay/\"\n",
        "#data_path = \"drive/My Drive/Harvard_Chest_XRay/\"\n",
        "\n",
        "sample_ratio = 0.4\n",
        "batch_size = 80\n",
        "num_epochs = 20"
      ],
      "metadata": {
        "id": "y105oUckcCsq"
      },
      "execution_count": null,
      "outputs": []
    },
    {
      "cell_type": "code",
      "source": [
        "# Set random seed for reproducibility\n",
        "torch.manual_seed(42)\n",
        "np.random.seed(42)\n",
        "random.seed(42)"
      ],
      "metadata": {
        "id": "igYIsETycF2_"
      },
      "execution_count": null,
      "outputs": []
    },
    {
      "cell_type": "markdown",
      "source": [
        "**DATA PREPROCESSING**"
      ],
      "metadata": {
        "id": "hS-Y14mUcM8I"
      }
    },
    {
      "cell_type": "code",
      "source": [
        "%run \"/content/drive/MyDrive/Colab Notebooks/utils.ipynb\"\n",
        "dataset, train_loader, train_indices, test_loader, test_indices, val_loader, val_indices = data_preprocess(data_path, sample_ratio)"
      ],
      "metadata": {
        "id": "pivhO7HMcNK3"
      },
      "execution_count": null,
      "outputs": []
    },
    {
      "cell_type": "markdown",
      "source": [
        "**MODEL TRAINING**"
      ],
      "metadata": {
        "id": "sT0FoAfYfyGX"
      }
    },
    {
      "cell_type": "code",
      "source": [
        "def save_metrics(loss, accuracy, model):\n",
        "  np.save(\"{}{}_train_loss.npy\".format(data_path, model), loss)\n",
        "  np.save(\"{}{}_train_accuracy.npy\".format(data_path, model), accuracy)"
      ],
      "metadata": {
        "id": "A8D5HEX6cWGv"
      },
      "execution_count": null,
      "outputs": []
    },
    {
      "cell_type": "code",
      "source": [
        "# Define the AlexNet model and set Pretraining to False to train model from scratch\n",
        "model = torch.hub.load('pytorch/vision:v0.10.0', 'alexnet', pretrained=False)\n",
        "model.classifier[6] = nn.Linear(4096, len(dataset.classes))\n",
        "model.to(device)\n",
        "\n",
        "learning_rate = [0.5, 0.05, 0.005, 0.0005]\n",
        "\n",
        "# Define loss function as CrossEntropy and optimizer as Adam Optimizer\n",
        "criterion = nn.CrossEntropyLoss()\n",
        "for i in learning_rate:\n",
        "  optimizer = optim.Adam(model.parameters(), lr = i)\n",
        "  losses, accuracies, v_accuracies, v_losses = train_model(model, criterion, optimizer, \"Tuning_AlexNet\")\n",
        "  #Save Model\n",
        "  torch.save(model.state_dict(), \"{}{}_alexnet.pth\". format(data_path, i)\n",
        "  #Evaluate Model on Test Set\n",
        "  evaluate_model(model, test_loader, test_indices, 'TEST', criterion, data_path, \"AlexNet\")"
      ],
      "metadata": {
        "colab": {
          "base_uri": "https://localhost:8080/"
        },
        "id": "TB7nGZ0fchor",
        "outputId": "e16323ae-989f-4908-84b9-ae919e9b69de"
      },
      "execution_count": null,
      "outputs": [
        {
          "output_type": "stream",
          "name": "stderr",
          "text": [
            "Using cache found in /root/.cache/torch/hub/pytorch_vision_v0.10.0\n",
            "Epoch 1/30: 100%|██████████| 143/143 [05:09<00:00,  2.16s/batch, loss=1.16]\n"
          ]
        },
        {
          "output_type": "stream",
          "name": "stdout",
          "text": [
            "Epoch: 1 | Accuracy: 0.4587 | Loss: 1.2888 | Recall: 0.3555 | Precision: 0.4108 | F-Score: 0.3227 | Time: 309.3623s\n",
            "MODEL PERFORMANCE ON VALIDATION SET\n",
            "Accuracy: 0.5153 | Loss: 1.1819 | Recall: 0.4230 | Precision: 0.4889 | F-score: 0.4035\n",
            "\n"
          ]
        },
        {
          "output_type": "stream",
          "name": "stderr",
          "text": [
            "Epoch 2/30: 100%|██████████| 143/143 [00:28<00:00,  5.07batch/s, loss=0.973]\n"
          ]
        },
        {
          "output_type": "stream",
          "name": "stdout",
          "text": [
            "Epoch: 2 | Accuracy: 0.5799 | Loss: 1.0426 | Recall: 0.4270 | Precision: 0.4918 | F-Score: 0.4152 | Time: 28.2419s\n",
            "MODEL PERFORMANCE ON VALIDATION SET\n",
            "Accuracy: 0.6239 | Loss: 0.9620 | Recall: 0.5768 | Precision: 0.6176 | F-score: 0.5856\n",
            "\n"
          ]
        },
        {
          "output_type": "stream",
          "name": "stderr",
          "text": [
            "Epoch 3/30: 100%|██████████| 143/143 [00:28<00:00,  5.04batch/s, loss=0.64]\n"
          ]
        },
        {
          "output_type": "stream",
          "name": "stdout",
          "text": [
            "Epoch: 3 | Accuracy: 0.6553 | Loss: 0.8902 | Recall: 0.4868 | Precision: 0.5534 | F-Score: 0.4913 | Time: 28.4617s\n",
            "MODEL PERFORMANCE ON VALIDATION SET\n",
            "Accuracy: 0.6751 | Loss: 0.8264 | Recall: 0.6383 | Precision: 0.6742 | F-score: 0.6435\n",
            "\n"
          ]
        },
        {
          "output_type": "stream",
          "name": "stderr",
          "text": [
            "Epoch 4/30: 100%|██████████| 143/143 [00:28<00:00,  4.98batch/s, loss=0.673]\n"
          ]
        },
        {
          "output_type": "stream",
          "name": "stdout",
          "text": [
            "Epoch: 4 | Accuracy: 0.6982 | Loss: 0.7775 | Recall: 0.5302 | Precision: 0.5915 | F-Score: 0.5407 | Time: 28.8848s\n",
            "MODEL PERFORMANCE ON VALIDATION SET\n",
            "Accuracy: 0.7102 | Loss: 0.7510 | Recall: 0.7014 | Precision: 0.7024 | F-score: 0.6956\n",
            "\n"
          ]
        },
        {
          "output_type": "stream",
          "name": "stderr",
          "text": [
            "Epoch 5/30: 100%|██████████| 143/143 [00:28<00:00,  5.01batch/s, loss=0.59]\n"
          ]
        },
        {
          "output_type": "stream",
          "name": "stdout",
          "text": [
            "Epoch: 5 | Accuracy: 0.7552 | Loss: 0.6480 | Recall: 0.5701 | Precision: 0.6264 | F-Score: 0.5835 | Time: 28.6643s\n",
            "MODEL PERFORMANCE ON VALIDATION SET\n",
            "Accuracy: 0.7653 | Loss: 0.6298 | Recall: 0.7201 | Precision: 0.7864 | F-score: 0.7398\n",
            "\n"
          ]
        },
        {
          "output_type": "stream",
          "name": "stderr",
          "text": [
            "Epoch 6/30: 100%|██████████| 143/143 [00:31<00:00,  4.61batch/s, loss=0.569]\n"
          ]
        },
        {
          "output_type": "stream",
          "name": "stdout",
          "text": [
            "Epoch: 6 | Accuracy: 0.8111 | Loss: 0.5156 | Recall: 0.6064 | Precision: 0.6590 | F-Score: 0.6211 | Time: 31.1798s\n",
            "MODEL PERFORMANCE ON VALIDATION SET\n",
            "Accuracy: 0.7737 | Loss: 0.6061 | Recall: 0.7548 | Precision: 0.7781 | F-score: 0.7593\n",
            "\n"
          ]
        },
        {
          "output_type": "stream",
          "name": "stderr",
          "text": [
            "Epoch 7/30: 100%|██████████| 143/143 [00:28<00:00,  4.98batch/s, loss=0.489]\n"
          ]
        },
        {
          "output_type": "stream",
          "name": "stdout",
          "text": [
            "Epoch: 7 | Accuracy: 0.8365 | Loss: 0.4558 | Recall: 0.6366 | Precision: 0.6856 | F-Score: 0.6518 | Time: 28.8553s\n",
            "MODEL PERFORMANCE ON VALIDATION SET\n",
            "Accuracy: 0.8326 | Loss: 0.4888 | Recall: 0.8115 | Precision: 0.8379 | F-score: 0.8156\n",
            "\n"
          ]
        },
        {
          "output_type": "stream",
          "name": "stderr",
          "text": [
            "Epoch 8/30: 100%|██████████| 143/143 [00:28<00:00,  4.98batch/s, loss=0.444]\n"
          ]
        },
        {
          "output_type": "stream",
          "name": "stdout",
          "text": [
            "Epoch: 8 | Accuracy: 0.8585 | Loss: 0.3973 | Recall: 0.6624 | Precision: 0.7083 | F-Score: 0.6776 | Time: 29.0313s\n",
            "MODEL PERFORMANCE ON VALIDATION SET\n",
            "Accuracy: 0.8119 | Loss: 0.4960 | Recall: 0.7855 | Precision: 0.8250 | F-score: 0.7977\n",
            "\n"
          ]
        },
        {
          "output_type": "stream",
          "name": "stderr",
          "text": [
            "Epoch 9/30: 100%|██████████| 143/143 [00:29<00:00,  4.90batch/s, loss=0.2]\n"
          ]
        },
        {
          "output_type": "stream",
          "name": "stdout",
          "text": [
            "Epoch: 9 | Accuracy: 0.8743 | Loss: 0.3516 | Recall: 0.6845 | Precision: 0.7275 | F-Score: 0.6995 | Time: 29.4089s\n",
            "MODEL PERFORMANCE ON VALIDATION SET\n",
            "Accuracy: 0.8257 | Loss: 0.4844 | Recall: 0.7931 | Precision: 0.8390 | F-score: 0.8076\n",
            "\n"
          ]
        },
        {
          "output_type": "stream",
          "name": "stderr",
          "text": [
            "Epoch 10/30: 100%|██████████| 143/143 [00:28<00:00,  4.94batch/s, loss=0.19]\n"
          ]
        },
        {
          "output_type": "stream",
          "name": "stdout",
          "text": [
            "Epoch: 10 | Accuracy: 0.8809 | Loss: 0.3250 | Recall: 0.7030 | Precision: 0.7435 | F-Score: 0.7177 | Time: 29.1558s\n",
            "MODEL PERFORMANCE ON VALIDATION SET\n",
            "Accuracy: 0.8387 | Loss: 0.4471 | Recall: 0.8302 | Precision: 0.8442 | F-score: 0.8345\n",
            "\n"
          ]
        }
      ]
    },
    {
      "cell_type": "code",
      "source": [
        "#Plotting the Loss and Accuracy Curves\n",
        "plot_model_curves(losses, accuracies, v_accuracies, v_losses)"
      ],
      "metadata": {
        "id": "uel8wBvRdXG7"
      },
      "execution_count": null,
      "outputs": []
    },
    {
      "cell_type": "code",
      "source": [
        "#Obtain TSNE Plot of the dataset with the last model\n",
        "plot_TSNE(train_loader, device, model)"
      ],
      "metadata": {
        "id": "oMAacFiS7UrR"
      },
      "execution_count": null,
      "outputs": []
    },
    {
      "cell_type": "code",
      "source": [
        "# Get the Within Class Variance\n",
        "plot_within_class_variance(dataset)"
      ],
      "metadata": {
        "id": "5lAuTe7VZjPe"
      },
      "execution_count": null,
      "outputs": []
    }
  ]
}