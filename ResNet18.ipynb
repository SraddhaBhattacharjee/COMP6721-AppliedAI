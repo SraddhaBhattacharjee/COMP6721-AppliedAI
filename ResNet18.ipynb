{
  "cells": [
    {
      "cell_type": "code",
      "execution_count": null,
      "metadata": {
        "colab": {
          "base_uri": "https://localhost:8080/"
        },
        "id": "naOl1p_8N5kl",
        "outputId": "f8f0ad59-1658-4b65-9a04-45d5b46a9820"
      },
      "outputs": [
        {
          "name": "stdout",
          "output_type": "stream",
          "text": [
            "Mounted at /content/drive\n"
          ]
        }
      ],
      "source": [
        "from google.colab import drive\n",
        "drive.mount('/content/drive', force_remount = True)"
      ],
      "id": "naOl1p_8N5kl"
    },
    {
      "cell_type": "code",
      "execution_count": null,
      "metadata": {
        "id": "b9b3415d"
      },
      "outputs": [],
      "source": [
        "import os, time, sys, random\n",
        "import torch\n",
        "import random\n",
        "import numpy as np\n",
        "from PIL import Image\n",
        "import torch.nn as nn\n",
        "import torch.optim as optim\n",
        "import matplotlib.pyplot as plt\n",
        "import torchvision.datasets as datasets\n",
        "import torchvision.transforms as transforms\n",
        "from torch.utils.data import DataLoader, random_split\n",
        "from sklearn.metrics import precision_score, recall_score, f1_score"
      ],
      "id": "b9b3415d"
    },
    {
      "cell_type": "code",
      "execution_count": null,
      "metadata": {
        "id": "4OHDnzINmaWL"
      },
      "outputs": [],
      "source": [
        "#data_path = \"drive/My Drive/Simple_Chest_XRay/\"\n",
        "#data_path = \"drive/My Drive/NIH_Chest_XRay/\"\n",
        "data_path = \"drive/My Drive/Harvard_Chest_XRay/\"\n",
        "\n",
        "sample_ratio = 0.4\n",
        "batch_size = 64\n",
        "num_epochs = 10"
      ],
      "id": "4OHDnzINmaWL"
    },
    {
      "cell_type": "code",
      "execution_count": null,
      "metadata": {
        "id": "j30qTJnkpvd3"
      },
      "outputs": [],
      "source": [
        "# Set random seed for reproducibility\n",
        "torch.manual_seed(42)\n",
        "np.random.seed(42)\n",
        "random.seed(42)"
      ],
      "id": "j30qTJnkpvd3"
    },
    {
      "cell_type": "markdown",
      "metadata": {
        "id": "ekRi1x_nsNpx"
      },
      "source": [
        "**DATA PREPROCESSING**\n"
      ],
      "id": "ekRi1x_nsNpx"
    },
    {
      "cell_type": "code",
      "execution_count": null,
      "metadata": {
        "id": "m8ijtwkIpZhs"
      },
      "outputs": [],
      "source": [
        "%run \"/content/drive/My Drive/Colab Notebooks/utils.ipynb\"\n",
        "dataset, train_loader, train_indices, test_loader, test_indices, val_loader, val_indices = data_preprocess(data_path, sample_ratio)"
      ],
      "id": "m8ijtwkIpZhs"
    },
    {
      "cell_type": "markdown",
      "metadata": {
        "id": "_8krRXxA2iy6"
      },
      "source": [
        " **DOWNLOAD RESNET18 MODEL AND TRAIN**\n"
      ],
      "id": "_8krRXxA2iy6"
    },
    {
      "cell_type": "code",
      "execution_count": null,
      "metadata": {
        "id": "-cJoqDX56E7l"
      },
      "outputs": [],
      "source": [
        "def save_metrics(loss, accuracy):\n",
        "  np.save(\"{}train_loss.npy\".format(data_path), loss)\n",
        "  np.save(\"{}train_accuracy.npy\".format(data_path), accuracy)"
      ],
      "id": "-cJoqDX56E7l"
    },
    {
      "cell_type": "code",
      "execution_count": null,
      "metadata": {
        "colab": {
          "background_save": true,
          "base_uri": "https://localhost:8080/"
        },
        "id": "adbe3fa8",
        "outputId": "233a917b-1788-4a0b-f48b-9cdffd0c983c"
      },
      "outputs": [
        {
          "name": "stderr",
          "output_type": "stream",
          "text": [
            "Using cache found in /root/.cache/torch/hub/pytorch_vision_v0.9.0\n"
          ]
        },
        {
          "name": "stdout",
          "output_type": "stream",
          "text": [
            "[1.137255515717194] [0.5487924814224243]\n",
            "Epoch: 1 | Training Accuracy: 0.5488 | Training Loss: 1.1373 | Time: 2399.1090s\n",
            "[1.137255515717194, 0.9117305073278509] [0.5487924814224243, 0.6503114700317383]\n",
            "Epoch: 2 | Training Accuracy: 0.6503 | Training Loss: 0.9117 | Time: 1786.4250s\n",
            "[1.137255515717194, 0.9117305073278509, 0.7489881453234281] [0.5487924814224243, 0.6503114700317383, 0.7197027802467346]\n",
            "Epoch: 3 | Training Accuracy: 0.7197 | Training Loss: 0.7490 | Time: 1804.6012s\n",
            "[1.137255515717194, 0.9117305073278509, 0.7489881453234281, 0.6488043796415603] [0.5487924814224243, 0.6503114700317383, 0.7197027802467346, 0.759479820728302]\n",
            "Epoch: 4 | Training Accuracy: 0.7595 | Training Loss: 0.6488 | Time: 1758.9242s\n",
            "[1.137255515717194, 0.9117305073278509, 0.7489881453234281, 0.6488043796415603, 0.5791921593975908] [0.5487924814224243, 0.6503114700317383, 0.7197027802467346, 0.759479820728302, 0.784832239151001]\n",
            "Epoch: 5 | Training Accuracy: 0.7848 | Training Loss: 0.5792 | Time: 1751.9350s\n",
            "[1.137255515717194, 0.9117305073278509, 0.7489881453234281, 0.6488043796415603, 0.5791921593975908, 0.5052657135001116] [0.5487924814224243, 0.6503114700317383, 0.7197027802467346, 0.759479820728302, 0.784832239151001, 0.8159763813018799]\n",
            "Epoch: 6 | Training Accuracy: 0.8160 | Training Loss: 0.5053 | Time: 1749.7717s\n",
            "[1.137255515717194, 0.9117305073278509, 0.7489881453234281, 0.6488043796415603, 0.5791921593975908, 0.5052657135001116, 0.45882947943390634] [0.5487924814224243, 0.6503114700317383, 0.7197027802467346, 0.759479820728302, 0.784832239151001, 0.8159763813018799, 0.834007203578949]\n",
            "Epoch: 7 | Training Accuracy: 0.8340 | Training Loss: 0.4588 | Time: 1750.9399s\n",
            "[1.137255515717194, 0.9117305073278509, 0.7489881453234281, 0.6488043796415603, 0.5791921593975908, 0.5052657135001116, 0.45882947943390634, 0.42425953034637615] [0.5487924814224243, 0.6503114700317383, 0.7197027802467346, 0.759479820728302, 0.784832239151001, 0.8159763813018799, 0.834007203578949, 0.8447164297103882]\n",
            "Epoch: 8 | Training Accuracy: 0.8447 | Training Loss: 0.4243 | Time: 1761.8584s\n",
            "[1.137255515717194, 0.9117305073278509, 0.7489881453234281, 0.6488043796415603, 0.5791921593975908, 0.5052657135001116, 0.45882947943390634, 0.42425953034637615, 0.40056349036993455] [0.5487924814224243, 0.6503114700317383, 0.7197027802467346, 0.759479820728302, 0.784832239151001, 0.8159763813018799, 0.834007203578949, 0.8447164297103882, 0.853567898273468]\n",
            "Epoch: 9 | Training Accuracy: 0.8536 | Training Loss: 0.4006 | Time: 1749.0409s\n",
            "[1.137255515717194, 0.9117305073278509, 0.7489881453234281, 0.6488043796415603, 0.5791921593975908, 0.5052657135001116, 0.45882947943390634, 0.42425953034637615, 0.40056349036993455, 0.36057976618085114] [0.5487924814224243, 0.6503114700317383, 0.7197027802467346, 0.759479820728302, 0.784832239151001, 0.8159763813018799, 0.834007203578949, 0.8447164297103882, 0.853567898273468, 0.8675554394721985]\n",
            "Epoch: 10 | Training Accuracy: 0.8676 | Training Loss: 0.3606 | Time: 1726.6161s\n"
          ]
        }
      ],
      "source": [
        "# Define the ResNet18 model and set Pretraining to False to train model from scratch\n",
        "model = torch.hub.load('pytorch/vision:v0.9.0', 'resnet18', pretrained = False)\n",
        "model.fc = nn.Linear(512, len(dataset.classes))\n",
        "\n",
        "# Define loss function as CrossEntropy and optimizer as Adam Optimizer\n",
        "criterion = nn.CrossEntropyLoss()\n",
        "optimizer = optim.Adam(model.parameters(), lr = 0.001)\n",
        "losses, accuracies = [], []\n",
        "\n",
        "# Train model on training set\n",
        "for epoch in range(num_epochs):\n",
        "    train_loss, train_accuracy, start_time = 0.0, 0.0, time.time()\n",
        "\n",
        "    for inputs, labels in train_loader:\n",
        "        optimizer.zero_grad()\n",
        "        outputs = model(inputs)\n",
        "        _, preds = torch.max(outputs, 1)\n",
        "        loss = criterion(outputs, labels)\n",
        "        loss.backward()\n",
        "        optimizer.step()\n",
        "        train_loss += loss.item() * inputs.size(0)\n",
        "        train_accuracy += torch.sum(preds == labels.data)\n",
        "\n",
        "    train_loss /= len(train_indices)\n",
        "    train_accuracy /= len(train_indices)\n",
        "    losses.append(train_loss)\n",
        "    accuracies.append(train_accuracy.item())\n",
        "    \n",
        "    print(losses, accuracies)\n",
        "    print('Epoch: {} | Training Accuracy: {:.4f} | Training Loss: {:.4f} | Time: {:.4f}s'.format(epoch+1, train_accuracy, train_loss, time.time() - start_time))\n",
        "save_metrics(losses, accuracies)"
      ],
      "id": "adbe3fa8"
    },
    {
      "cell_type": "code",
      "execution_count": null,
      "metadata": {
        "colab": {
          "background_save": true
        },
        "id": "ujIIcw9XEiNS",
        "outputId": "71acd343-f54a-4280-dd03-b70245483cc3"
      },
      "outputs": [
        {
          "data": {
            "image/png": "[encoded data removed]",
            "text/plain": [
              "<Figure size 720x360 with 1 Axes>"
            ]
          },
          "metadata": {},
          "output_type": "display_data"
        }
      ],
      "source": [
        "#Plotting the Loss and Accuracy Curves\n",
        "plt.figure(figsize = (10, 5))\n",
        "plt.plot(losses, label = 'Training Loss')\n",
        "plt.plot(accuracies, label = 'Training Accuracy')\n",
        "plt.xlabel('Epoch')\n",
        "plt.ylabel('Loss / Accuracy')\n",
        "plt.title('Training Loss and Accuracy Curves')\n",
        "plt.legend()\n",
        "plt.show()"
      ],
      "id": "ujIIcw9XEiNS"
    },
    {
      "cell_type": "markdown",
      "metadata": {
        "id": "9O3rqTRw3CmU"
      },
      "source": [
        "**EVALUATE MODEL ON VALIDATION AND TEST SET**"
      ],
      "id": "9O3rqTRw3CmU"
    },
    {
      "cell_type": "code",
      "execution_count": null,
      "metadata": {
        "id": "UbgkKSF1Klza"
      },
      "outputs": [],
      "source": [
        "#Evaluate Model on Test Set\n",
        "evaluate_model(model, test_loader, test_indices, 'TEST', criterion, data_path, \"ResNet18\")\n",
        "\n",
        "#Evaluate Model on Validation Set\n",
        "evaluate_model(model, val_loader, val_indices, 'VALIDATION', criterion, data_path, \"ResNet18\")"
      ],
      "id": "UbgkKSF1Klza"
    },
    {
      "cell_type": "markdown",
      "metadata": {
        "id": "tNvKSdNUTL5o"
      },
      "source": [
        "**SAVE MODEL PARAMETERS**"
      ],
      "id": "tNvKSdNUTL5o"
    },
    {
      "cell_type": "code",
      "execution_count": null,
      "metadata": {
        "id": "_AEMNS3KCIwi"
      },
      "outputs": [],
      "source": [
        "torch.save(model.state_dict(), \"{}resnet18.pth\".format(data_path))"
      ],
      "id": "_AEMNS3KCIwi"
    }
  ],
  "metadata": {
    "accelerator": "GPU",
    "colab": {
      "provenance": []
    },
    "gpuClass": "standard",
    "kernelspec": {
      "display_name": "Python 3 (ipykernel)",
      "language": "python",
      "name": "python3"
    },
    "language_info": {
      "codemirror_mode": {
        "name": "ipython",
        "version": 3
      },
      "file_extension": ".py",
      "mimetype": "text/x-python",
      "name": "python",
      "nbconvert_exporter": "python",
      "pygments_lexer": "ipython3",
      "version": "3.9.13"
    }
  },
  "nbformat": 4,
  "nbformat_minor": 5
}