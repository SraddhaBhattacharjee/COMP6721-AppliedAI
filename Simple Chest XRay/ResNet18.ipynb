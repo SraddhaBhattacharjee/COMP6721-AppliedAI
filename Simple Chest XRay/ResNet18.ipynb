{
  "cells": [
    {
      "cell_type": "markdown",
      "metadata": {
        "id": "view-in-github",
        "colab_type": "text"
      },
      "source": [
        "<a href=\"https://colab.research.google.com/github/roshansadath/COMP6721-AppliedAI/blob/main/Simple%20Chest%20XRay/ResNet18.ipynb\" target=\"_parent\"><img src=\"https://colab.research.google.com/assets/colab-badge.svg\" alt=\"Open In Colab\"/></a>"
      ]
    },
    {
      "cell_type": "code",
      "execution_count": null,
      "metadata": {
        "colab": {
          "base_uri": "https://localhost:8080/"
        },
        "id": "naOl1p_8N5kl",
        "outputId": "61e13da5-e0f9-48bc-e4ab-390c74a41f61"
      },
      "outputs": [
        {
          "name": "stdout",
          "output_type": "stream",
          "text": [
            "Mounted at /content/drive\n"
          ]
        }
      ],
      "source": [
        "from google.colab import drive\n",
        "drive.mount('/content/drive', force_remount = True)"
      ],
      "id": "naOl1p_8N5kl"
    },
    {
      "cell_type": "code",
      "execution_count": null,
      "metadata": {
        "colab": {
          "base_uri": "https://localhost:8080/"
        },
        "id": "b9b3415d",
        "outputId": "5a6ab079-2ff5-46b2-c9d9-13819c37431e"
      },
      "outputs": [
        {
          "data": {
            "text/plain": [
              "device(type='cuda')"
            ]
          },
          "execution_count": 2,
          "metadata": {},
          "output_type": "execute_result"
        }
      ],
      "source": [
        "import os, time, random, torch, warnings\n",
        "import numpy as np\n",
        "from PIL import Image\n",
        "import torch.nn as nn\n",
        "import seaborn as sns\n",
        "from tqdm import tqdm\n",
        "import torch.optim as optim\n",
        "import matplotlib.pyplot as plt\n",
        "import torchvision.datasets as datasets\n",
        "import torchvision.transforms as transforms\n",
        "from torch.utils.data import DataLoader, random_split\n",
        "from sklearn.metrics import precision_score, recall_score, f1_score\n",
        "\n",
        "warnings.simplefilter(\"ignore\")\n",
        "device = torch.device('cuda' if torch.cuda.is_available() else 'cpu')\n",
        "device"
      ],
      "id": "b9b3415d"
    },
    {
      "cell_type": "code",
      "execution_count": null,
      "metadata": {
        "id": "4OHDnzINmaWL"
      },
      "outputs": [],
      "source": [
        "data_path = \"drive/My Drive/Simple_Chest_XRay/\"\n",
        "#data_path = \"drive/My Drive/NIH_Chest_XRay/\"\n",
        "#data_path = \"drive/My Drive/Harvard_Chest_XRay/\"\n",
        "\n",
        "sample_ratio = 0.4\n",
        "batch_size = 64\n",
        "num_epochs = 15"
      ],
      "id": "4OHDnzINmaWL"
    },
    {
      "cell_type": "code",
      "execution_count": null,
      "metadata": {
        "id": "j30qTJnkpvd3"
      },
      "outputs": [],
      "source": [
        "# Set random seed for reproducibility\n",
        "torch.manual_seed(42)\n",
        "np.random.seed(42)\n",
        "random.seed(42)"
      ],
      "id": "j30qTJnkpvd3"
    },
    {
      "cell_type": "markdown",
      "metadata": {
        "id": "ekRi1x_nsNpx"
      },
      "source": [
        "**DATA PREPROCESSING**\n"
      ],
      "id": "ekRi1x_nsNpx"
    },
    {
      "cell_type": "code",
      "execution_count": null,
      "metadata": {
        "id": "m8ijtwkIpZhs"
      },
      "outputs": [],
      "source": [
        "%run \"/content/drive/My Drive/Colab Notebooks/utils.ipynb\"\n",
        "dataset, train_loader, train_indices, test_loader, test_indices, val_loader, val_indices = data_preprocess(data_path, sample_ratio)"
      ],
      "id": "m8ijtwkIpZhs"
    },
    {
      "cell_type": "markdown",
      "metadata": {
        "id": "_8krRXxA2iy6"
      },
      "source": [
        " **DOWNLOAD RESNET18 MODEL AND TRAIN**\n"
      ],
      "id": "_8krRXxA2iy6"
    },
    {
      "cell_type": "code",
      "execution_count": null,
      "metadata": {
        "id": "-cJoqDX56E7l"
      },
      "outputs": [],
      "source": [
        "def save_metrics(loss, accuracy, model):\n",
        "  np.save(\"{}{}_train_loss.npy\".format(data_path, model), loss)\n",
        "  np.save(\"{}{}_train_accuracy.npy\".format(data_path, model), accuracy)"
      ],
      "id": "-cJoqDX56E7l"
    },
    {
      "cell_type": "code",
      "execution_count": null,
      "metadata": {
        "colab": {
          "background_save": true,
          "base_uri": "https://localhost:8080/"
        },
        "id": "adbe3fa8",
        "outputId": "9a013301-7543-41da-f2a0-03aa32ca4065"
      },
      "outputs": [
        {
          "name": "stderr",
          "output_type": "stream",
          "text": [
            "Using cache found in /root/.cache/torch/hub/pytorch_vision_v0.9.0\n",
            "Epoch 1/15: 100%|██████████| 26/26 [00:31<00:00,  1.22s/batch, loss=0.166]\n"
          ]
        },
        {
          "name": "stdout",
          "output_type": "stream",
          "text": [
            "Epoch: 1 | Accuracy: 0.8572 | Loss: 0.3278 | Recall: 0.8445 | Precision: 0.8230 | F-Score: 0.8322 | Time: 31.6316s\n",
            "MODEL PERFORMANCE ON VALIDATION SET\n",
            "Accuracy: 0.7787 | Loss: 0.8440 | Recall: 0.5517 | Precision: 0.8865 | F-score: 0.5297\n",
            "\n"
          ]
        },
        {
          "name": "stderr",
          "output_type": "stream",
          "text": [
            "Epoch 2/15: 100%|██████████| 26/26 [00:31<00:00,  1.20s/batch, loss=0.503]"
          ]
        },
        {
          "name": "stdout",
          "output_type": "stream",
          "text": [
            "Epoch: 2 | Accuracy: 0.6199 | Loss: 1.5836 | Recall: 0.6747 | Precision: 0.6802 | F-Score: 0.6772 | Time: 31.3199s\n"
          ]
        },
        {
          "name": "stderr",
          "output_type": "stream",
          "text": [
            "\n"
          ]
        },
        {
          "name": "stdout",
          "output_type": "stream",
          "text": [
            "MODEL PERFORMANCE ON VALIDATION SET\n",
            "Accuracy: 0.7532 | Loss: 0.5563 | Recall: 0.5000 | Precision: 0.3766 | F-score: 0.4296\n",
            "\n"
          ]
        },
        {
          "name": "stderr",
          "output_type": "stream",
          "text": [
            "Epoch 3/15: 100%|██████████| 26/26 [00:31<00:00,  1.22s/batch, loss=0.555]\n"
          ]
        },
        {
          "name": "stdout",
          "output_type": "stream",
          "text": [
            "Epoch: 3 | Accuracy: 0.7206 | Loss: 0.5581 | Recall: 0.6248 | Precision: 0.6655 | F-Score: 0.6340 | Time: 31.8648s\n",
            "MODEL PERFORMANCE ON VALIDATION SET\n",
            "Accuracy: 0.8128 | Loss: 0.3934 | Recall: 0.7424 | Precision: 0.7483 | F-score: 0.7452\n",
            "\n"
          ]
        },
        {
          "name": "stderr",
          "output_type": "stream",
          "text": [
            "Epoch 4/15: 100%|██████████| 26/26 [00:30<00:00,  1.19s/batch, loss=0.546]"
          ]
        },
        {
          "name": "stdout",
          "output_type": "stream",
          "text": [
            "Epoch: 4 | Accuracy: 0.7267 | Loss: 0.5524 | Recall: 0.6191 | Precision: 0.6629 | F-Score: 0.6278 | Time: 31.0045s\n"
          ]
        },
        {
          "name": "stderr",
          "output_type": "stream",
          "text": [
            "\n"
          ]
        },
        {
          "name": "stdout",
          "output_type": "stream",
          "text": [
            "MODEL PERFORMANCE ON VALIDATION SET\n",
            "Accuracy: 0.7532 | Loss: 0.4476 | Recall: 0.5058 | Precision: 0.6277 | F-score: 0.4459\n",
            "\n"
          ]
        },
        {
          "name": "stderr",
          "output_type": "stream",
          "text": [
            "Epoch 5/15: 100%|██████████| 26/26 [00:30<00:00,  1.18s/batch, loss=0.301]\n"
          ]
        },
        {
          "name": "stdout",
          "output_type": "stream",
          "text": [
            "Epoch: 5 | Accuracy: 0.8017 | Loss: 0.4366 | Recall: 0.6370 | Precision: 0.6863 | F-Score: 0.6481 | Time: 30.7100s\n",
            "MODEL PERFORMANCE ON VALIDATION SET\n",
            "Accuracy: 0.8426 | Loss: 0.3195 | Recall: 0.8201 | Precision: 0.7869 | F-score: 0.8004\n",
            "\n"
          ]
        },
        {
          "name": "stderr",
          "output_type": "stream",
          "text": [
            "Epoch 6/15: 100%|██████████| 26/26 [00:30<00:00,  1.16s/batch, loss=0.503]"
          ]
        },
        {
          "name": "stdout",
          "output_type": "stream",
          "text": [
            "Epoch: 6 | Accuracy: 0.8493 | Loss: 0.3571 | Recall: 0.6648 | Precision: 0.7128 | F-Score: 0.6781 | Time: 30.0891s\n"
          ]
        },
        {
          "name": "stderr",
          "output_type": "stream",
          "text": [
            "\n"
          ]
        },
        {
          "name": "stdout",
          "output_type": "stream",
          "text": [
            "MODEL PERFORMANCE ON VALIDATION SET\n",
            "Accuracy: 0.8511 | Loss: 0.3263 | Recall: 0.8548 | Precision: 0.7994 | F-score: 0.8181\n",
            "\n"
          ]
        },
        {
          "name": "stderr",
          "output_type": "stream",
          "text": [
            "Epoch 7/15: 100%|██████████| 26/26 [00:31<00:00,  1.20s/batch, loss=0.395]\n"
          ]
        },
        {
          "name": "stdout",
          "output_type": "stream",
          "text": [
            "Epoch: 7 | Accuracy: 0.8261 | Loss: 0.4112 | Recall: 0.6793 | Precision: 0.7258 | F-Score: 0.6933 | Time: 31.1681s\n",
            "MODEL PERFORMANCE ON VALIDATION SET\n",
            "Accuracy: 0.8468 | Loss: 0.3285 | Recall: 0.7070 | Precision: 0.8667 | F-score: 0.7438\n",
            "\n"
          ]
        },
        {
          "name": "stderr",
          "output_type": "stream",
          "text": [
            "Epoch 8/15: 100%|██████████| 26/26 [00:30<00:00,  1.17s/batch, loss=0.182]"
          ]
        },
        {
          "name": "stdout",
          "output_type": "stream",
          "text": [
            "Epoch: 8 | Accuracy: 0.8676 | Loss: 0.3065 | Recall: 0.6970 | Precision: 0.7429 | F-Score: 0.7118 | Time: 30.4096s\n"
          ]
        },
        {
          "name": "stderr",
          "output_type": "stream",
          "text": [
            "\n"
          ]
        },
        {
          "name": "stdout",
          "output_type": "stream",
          "text": [
            "MODEL PERFORMANCE ON VALIDATION SET\n",
            "Accuracy: 0.8766 | Loss: 0.2965 | Recall: 0.8891 | Precision: 0.8283 | F-score: 0.8493\n",
            "\n"
          ]
        },
        {
          "name": "stderr",
          "output_type": "stream",
          "text": [
            "Epoch 9/15: 100%|██████████| 26/26 [00:31<00:00,  1.21s/batch, loss=0.461]\n"
          ]
        },
        {
          "name": "stdout",
          "output_type": "stream",
          "text": [
            "Epoch: 9 | Accuracy: 0.8322 | Loss: 0.3912 | Recall: 0.7083 | Precision: 0.7490 | F-Score: 0.7223 | Time: 31.5358s\n",
            "MODEL PERFORMANCE ON VALIDATION SET\n",
            "Accuracy: 0.8936 | Loss: 0.3282 | Recall: 0.8251 | Precision: 0.8777 | F-score: 0.8467\n",
            "\n"
          ]
        },
        {
          "name": "stderr",
          "output_type": "stream",
          "text": [
            "Epoch 10/15: 100%|██████████| 26/26 [00:30<00:00,  1.19s/batch, loss=0.413]"
          ]
        },
        {
          "name": "stdout",
          "output_type": "stream",
          "text": [
            "Epoch: 10 | Accuracy: 0.8438 | Loss: 0.3578 | Recall: 0.7142 | Precision: 0.7572 | F-Score: 0.7290 | Time: 30.9826s\n"
          ]
        },
        {
          "name": "stderr",
          "output_type": "stream",
          "text": [
            "\n"
          ]
        },
        {
          "name": "stdout",
          "output_type": "stream",
          "text": [
            "MODEL PERFORMANCE ON VALIDATION SET\n",
            "Accuracy: 0.8681 | Loss: 0.2919 | Recall: 0.8777 | Precision: 0.8187 | F-score: 0.8389\n",
            "\n"
          ]
        },
        {
          "name": "stderr",
          "output_type": "stream",
          "text": [
            "Epoch 11/15: 100%|██████████| 26/26 [00:31<00:00,  1.22s/batch, loss=0.251]"
          ]
        },
        {
          "name": "stdout",
          "output_type": "stream",
          "text": [
            "Epoch: 11 | Accuracy: 0.8743 | Loss: 0.2925 | Recall: 0.7255 | Precision: 0.7667 | F-Score: 0.7402 | Time: 31.7439s\n"
          ]
        },
        {
          "name": "stderr",
          "output_type": "stream",
          "text": [
            "\n"
          ]
        },
        {
          "name": "stdout",
          "output_type": "stream",
          "text": [
            "MODEL PERFORMANCE ON VALIDATION SET\n",
            "Accuracy: 0.9319 | Loss: 0.2102 | Recall: 0.9200 | Precision: 0.9020 | F-score: 0.9105\n",
            "\n"
          ]
        },
        {
          "name": "stderr",
          "output_type": "stream",
          "text": [
            "Epoch 12/15: 100%|██████████| 26/26 [00:30<00:00,  1.17s/batch, loss=0.227]"
          ]
        },
        {
          "name": "stdout",
          "output_type": "stream",
          "text": [
            "Epoch: 12 | Accuracy: 0.9128 | Loss: 0.2288 | Recall: 0.7389 | Precision: 0.7788 | F-Score: 0.7536 | Time: 30.3539s\n"
          ]
        },
        {
          "name": "stderr",
          "output_type": "stream",
          "text": [
            "\n"
          ]
        },
        {
          "name": "stdout",
          "output_type": "stream",
          "text": [
            "MODEL PERFORMANCE ON VALIDATION SET\n",
            "Accuracy: 0.9319 | Loss: 0.1807 | Recall: 0.9200 | Precision: 0.9020 | F-score: 0.9105\n",
            "\n"
          ]
        },
        {
          "name": "stderr",
          "output_type": "stream",
          "text": [
            "Epoch 13/15: 100%|██████████| 26/26 [00:30<00:00,  1.18s/batch, loss=0.147]"
          ]
        },
        {
          "name": "stdout",
          "output_type": "stream",
          "text": [
            "Epoch: 13 | Accuracy: 0.9201 | Loss: 0.2027 | Recall: 0.7513 | Precision: 0.7895 | F-Score: 0.7658 | Time: 30.6502s\n"
          ]
        },
        {
          "name": "stderr",
          "output_type": "stream",
          "text": [
            "\n"
          ]
        },
        {
          "name": "stdout",
          "output_type": "stream",
          "text": [
            "MODEL PERFORMANCE ON VALIDATION SET\n",
            "Accuracy: 0.9660 | Loss: 0.1466 | Recall: 0.9542 | Precision: 0.9542 | F-score: 0.9542\n",
            "\n"
          ]
        },
        {
          "name": "stderr",
          "output_type": "stream",
          "text": [
            "Epoch 14/15: 100%|██████████| 26/26 [00:30<00:00,  1.19s/batch, loss=0.231]\n"
          ]
        },
        {
          "name": "stdout",
          "output_type": "stream",
          "text": [
            "Epoch: 14 | Accuracy: 0.9109 | Loss: 0.2093 | Recall: 0.7608 | Precision: 0.7977 | F-Score: 0.7752 | Time: 30.9348s\n",
            "MODEL PERFORMANCE ON VALIDATION SET\n",
            "Accuracy: 0.9277 | Loss: 0.1696 | Recall: 0.8592 | Precision: 0.9467 | F-score: 0.8928\n",
            "\n"
          ]
        },
        {
          "name": "stderr",
          "output_type": "stream",
          "text": [
            "Epoch 15/15: 100%|██████████| 26/26 [00:30<00:00,  1.18s/batch, loss=0.0527]"
          ]
        },
        {
          "name": "stdout",
          "output_type": "stream",
          "text": [
            "Epoch: 15 | Accuracy: 0.9274 | Loss: 0.1787 | Recall: 0.7707 | Precision: 0.8061 | F-Score: 0.7847 | Time: 30.6293s\n"
          ]
        },
        {
          "name": "stderr",
          "output_type": "stream",
          "text": [
            "\n"
          ]
        },
        {
          "name": "stdout",
          "output_type": "stream",
          "text": [
            "MODEL PERFORMANCE ON VALIDATION SET\n",
            "Accuracy: 0.9617 | Loss: 0.1236 | Recall: 0.9398 | Precision: 0.9561 | F-score: 0.9476\n",
            "\n"
          ]
        }
      ],
      "source": [
        "# Define the ResNet18 model and set Pretraining to False to train model from scratch\n",
        "model = torch.hub.load('pytorch/vision:v0.9.0', 'resnet18', pretrained = False)\n",
        "model.fc = nn.Linear(512, len(dataset.classes))\n",
        "model.to(device)\n",
        "\n",
        "# Define loss function a  s CrossEntropy and optimizer as Adam Optimizer\n",
        "criterion = nn.CrossEntropyLoss()\n",
        "optimizer = optim.Adam(model.parameters(), lr=0.0005)\n",
        "losses, accuracies, true, pred, v_accuracies, v_losses = [], [], [], [], [], []\n",
        "\n",
        "# Train model on training set\n",
        "for epoch in range(num_epochs):\n",
        "    train_loss, train_accuracy, start_time = 0.0, 0.0, time.time()\n",
        "\n",
        "    with tqdm(total=len(train_loader), desc=f'Epoch {epoch+1}/{num_epochs}', unit='batch') as pbar:\n",
        "      for inputs, labels in train_loader:\n",
        "          inputs = inputs.to(device)\n",
        "          labels = labels.to(device)\n",
        "\n",
        "          optimizer.zero_grad()\n",
        "          outputs = model(inputs)\n",
        "          _, preds = torch.max(outputs, 1)\n",
        "          loss = criterion(outputs, labels)\n",
        "          loss.backward()\n",
        "          optimizer.step()\n",
        "          train_loss += loss.item() * inputs.size(0)\n",
        "          train_accuracy += torch.sum(preds == labels.data)\n",
        "          pred.extend(preds.cpu().numpy())\n",
        "          true.extend(labels.cpu().numpy())\n",
        "          \n",
        "          pbar.set_postfix({'loss': loss.item()})\n",
        "          pbar.update()\n",
        "\n",
        "    train_loss /= len(train_indices)\n",
        "    train_accuracy /= len(train_indices)\n",
        "    _recall = recall_score(true, pred, average='macro')\n",
        "    _precision = precision_score(true, pred, average='macro')\n",
        "    _fscore = f1_score(true, pred, average='macro')\n",
        "\n",
        "    print('Epoch: {} | Accuracy: {:.4f} | Loss: {:.4f} | Recall: {:.4f} | Precision: {:.4f} | F-Score: {:.4f} | Time: {:.4f}s'.format(epoch+1, train_accuracy, train_loss, _recall, _precision, _fscore, time.time() - start_time))\n",
        "    val_accuracy, val_loss = evaluate_model(model, val_loader, val_indices, 'VALIDATION', criterion, data_path, \"ResNet18\")\n",
        "    v_accuracies.append(val_accuracy)\n",
        "    v_losses.append(val_loss)\n",
        "    losses.append(train_loss)\n",
        "    accuracies.append(train_accuracy.item())\n",
        "\n",
        "save_metrics(losses, accuracies, \"ResNet18\")"
      ],
      "id": "adbe3fa8"
    },
    {
      "cell_type": "markdown",
      "metadata": {
        "id": "tNvKSdNUTL5o"
      },
      "source": [
        "**SAVE MODEL PARAMETERS**"
      ],
      "id": "tNvKSdNUTL5o"
    },
    {
      "cell_type": "code",
      "execution_count": null,
      "metadata": {
        "id": "_AEMNS3KCIwi"
      },
      "outputs": [],
      "source": [
        "torch.save(model.state_dict(), \"{}resnet18.pth\".format(data_path))"
      ],
      "id": "_AEMNS3KCIwi"
    },
    {
      "cell_type": "code",
      "execution_count": null,
      "metadata": {
        "colab": {
          "base_uri": "https://localhost:8080/",
          "height": 487
        },
        "id": "ujIIcw9XEiNS",
        "outputId": "976e6a5b-4d2e-46c1-ac60-3c2d9bd59afa"
      },
      "outputs": [
        {
          "data": {
            "image/png": "[encoded data removed]",
            "text/plain": [
              "<Figure size 1200x500 with 2 Axes>"
            ]
          },
          "metadata": {},
          "output_type": "display_data"
        }
      ],
      "source": [
        "#Plotting the Loss and Accuracy Curves\n",
        "fig, (ax1, ax2) = plt.subplots(1, 2, figsize=(12, 5))\n",
        "\n",
        "ax1.plot(losses, label = \"Training Loss\")\n",
        "ax1.plot(v_losses, label = \"Validation Loss\")\n",
        "ax1.set_xlabel('Epoch')\n",
        "ax1.set_ylabel('Loss')\n",
        "ax1.set_title('Training and Validation Loss Curve')\n",
        "ax1.legend()\n",
        "\n",
        "ax2.plot(accuracies, label = \"Training Accuracy\")\n",
        "ax2.plot(v_accuracies, label = \"Validation Accuracy\")\n",
        "ax2.set_xlabel('Epoch')\n",
        "ax2.set_ylabel('Accuracy')\n",
        "ax2.set_title('Training and Validation Accuracy Curve')\n",
        "ax2.legend()\n",
        "\n",
        "plt.show()"
      ],
      "id": "ujIIcw9XEiNS"
    },
    {
      "cell_type": "markdown",
      "metadata": {
        "id": "9O3rqTRw3CmU"
      },
      "source": [
        "**EVALUATE MODEL ON TEST SET**"
      ],
      "id": "9O3rqTRw3CmU"
    },
    {
      "cell_type": "code",
      "execution_count": null,
      "metadata": {
        "id": "UbgkKSF1Klza"
      },
      "outputs": [],
      "source": [
        "#Evaluate Model on Test Set\n",
        "evaluate_model(model, test_loader, test_indices, 'TEST', criterion, data_path, \"ResNet18\")"
      ],
      "id": "UbgkKSF1Klza"
    },
    {
      "cell_type": "code",
      "execution_count": null,
      "metadata": {
        "id": "ChKmu4L27hpm"
      },
      "outputs": [],
      "source": [
        "#Obtain the TSNE Plot for the data\n",
        "features = []\n",
        "labels = []\n",
        "for images, targets in train_loader:\n",
        "    with torch.no_grad():\n",
        "        output = model(images)\n",
        "        features.append(output.cpu().numpy())\n",
        "        labels.append(targets.numpy())\n",
        "\n",
        "features = np.vstack(features)\n",
        "labels = np.concatenate(labels)\n",
        "\n",
        "# Perform t-SNE on the feature vectors\n",
        "tsne = TSNE(n_components=2, perplexity = 20, learning_rate = 600, n_iter = 900)\n",
        "tsne_features = tsne.fit_transform(features)\n",
        "\n",
        "plt.scatter(tsne_features[:, 0], tsne_features[:, 1], c=labels, cmap=plt.cm.get_cmap('jet', len(dataset.classes)))\n",
        "plt.legend()\n",
        "plt.title('t-SNE Plot')\n",
        "plt.show()"
      ],
      "id": "ChKmu4L27hpm"
    },
    {
      "cell_type": "code",
      "execution_count": null,
      "metadata": {
        "id": "2UjzPs1S7nmC"
      },
      "outputs": [],
      "source": [
        "# Get the class labels and the number of classes\n",
        "class_labels = dataset.classes\n",
        "num_classes = len(class_labels)\n",
        "\n",
        "# Get the number of images per class\n",
        "num_images_per_class = []\n",
        "for i in range(num_classes):\n",
        "    class_indices = np.where(np.array(dataset.targets) == i)[0]\n",
        "    num_images_per_class.append(len(class_indices))\n",
        "\n",
        "# Compute the mean and variance of the images per class\n",
        "mean_num_images = np.mean(num_images_per_class)\n",
        "var_num_images = np.var(num_images_per_class)\n",
        "\n",
        "# Plot the within-class variance\n",
        "fig, ax = plt.subplots()\n",
        "ax.bar(class_labels, num_images_per_class)\n",
        "ax.axhline(y=mean_num_images, linestyle='--', color='r', label='Mean')\n",
        "ax.axhspan(mean_num_images - np.sqrt(var_num_images), mean_num_images + np.sqrt(var_num_images),\n",
        "           alpha=0.2, color='y', label='Variance')\n",
        "ax.legend()\n",
        "plt.xticks(rotation = 0)\n",
        "plt.ylabel('Number of Images')\n",
        "plt.xlabel('Class Labels')\n",
        "plt.title('Within-Class Variance Plot')\n",
        "plt.show()"
      ],
      "id": "2UjzPs1S7nmC"
    },
    {
      "cell_type": "code",
      "execution_count": null,
      "metadata": {
        "id": "EpPwlUG77oWS"
      },
      "outputs": [],
      "source": [
        "def within_class_variance(dataset, model):\n",
        "    # Set the model to evaluation mode\n",
        "    model.load_state_dict(model['model_state_dict'])\n",
        "    model.eval()\n",
        "    # Get the feature vectors and labels for the dataset\n",
        "    features = []\n",
        "    labels = []\n",
        "    for images, targets in train_loader:\n",
        "        with torch.no_grad():\n",
        "          images = images.to(device)\n",
        "          targets = targets.to(device)\n",
        "          output = model(images)\n",
        "          features.append(output.cpu().numpy()[0])\n",
        "          labels.append(targets.cpu().numpy()[0])\n",
        "    features = np.array(features)\n",
        "    labels = np.array(labels)\n",
        "    \n",
        "    # Calculate the within-class variance for each class\n",
        "    class_variances = []\n",
        "    for c in np.unique(labels):\n",
        "        class_features = features[labels == c]\n",
        "        class_mean = np.mean(class_features, axis=0)\n",
        "        class_variance = np.mean(np.sum((class_features - class_mean)**2, axis=1))\n",
        "        class_variances.append(class_variance)\n",
        "    \n",
        "    return class_variances\n",
        "\n",
        "# Define the dataset and model\n",
        "# Calculate the within-class variance\n",
        "class_variances = within_class_variance(dataset, model)\n",
        "\n",
        "# Plot the within-class variances for each class\n",
        "plt.bar(np.arange(len(class_variances)), class_variances)\n",
        "plt.xticks(np.arange(len(class_variances)), dataset.classes, rotation='vertical')\n",
        "plt.ylabel('Within-class variance')\n",
        "plt.show()"
      ],
      "id": "EpPwlUG77oWS"
    }
  ],
  "metadata": {
    "accelerator": "GPU",
    "colab": {
      "provenance": [],
      "include_colab_link": true
    },
    "gpuClass": "standard",
    "kernelspec": {
      "display_name": "Python 3 (ipykernel)",
      "language": "python",
      "name": "python3"
    },
    "language_info": {
      "codemirror_mode": {
        "name": "ipython",
        "version": 3
      },
      "file_extension": ".py",
      "mimetype": "text/x-python",
      "name": "python",
      "nbconvert_exporter": "python",
      "pygments_lexer": "ipython3",
      "version": "3.9.13"
    }
  },
  "nbformat": 4,
  "nbformat_minor": 5
}